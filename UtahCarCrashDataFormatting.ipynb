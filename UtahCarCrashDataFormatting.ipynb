{
 "cells": [
  {
   "cell_type": "code",
   "execution_count": 43,
   "id": "0bd240fb-7748-471c-8753-2c09308171e8",
   "metadata": {},
   "outputs": [],
   "source": [
    "import pandas as pd"
   ]
  },
  {
   "cell_type": "code",
   "execution_count": 44,
   "id": "ad232380-d81b-4d85-8c86-fbbb3b4150d2",
   "metadata": {},
   "outputs": [],
   "source": [
    "data = pd.read_csv('UtahCrashData2015-2019.csv')"
   ]
  },
  {
   "cell_type": "code",
   "execution_count": 76,
   "id": "19704e03-ad87-4ff3-9955-385e6082740f",
   "metadata": {},
   "outputs": [
    {
     "name": "stdout",
     "output_type": "stream",
     "text": [
      "   OBJECTID  CRASH_ID              CRASH_DATE  ROUTE  MILEPOINT    GCS_Lat  \\\n",
      "0         1  10700000  01/26/2015 04:32:00 PM   68.0     46.884  40.588737   \n",
      "1         2  10720000  04/07/2015 05:28:00 AM   89.0    401.411  41.066161   \n",
      "2         3  10760000  01/07/2015 12:34:00 PM  224.0      9.392  40.696599   \n",
      "3         4  10770000  06/18/2015 10:08:00 PM  132.0     16.990  39.634688   \n",
      "4         5  10790000  11/14/2015 08:00:00 PM  105.0      0.453  40.921522   \n",
      "\n",
      "     GCS_Long    MAIN_ROAD_                 CITY COUNTY_NAM  ...  SINGLE_VEH  \\\n",
      "0 -111.938720  REDWOOD ROAD          WEST JORDAN  SALT LAKE  ...       False   \n",
      "1 -111.910604        HWY 89               LAYTON      DAVIS  ...        True   \n",
      "2 -111.544219        SR 224  OUTSIDE CITY LIMITS     SUMMIT  ...       False   \n",
      "3 -112.106185        SR-132  OUTSIDE CITY LIMITS       JUAB  ...        True   \n",
      "4 -111.891682  PARRISH LANE          CENTERVILLE      DAVIS  ...       False   \n",
      "\n",
      "  DISTRACTED  DROWSY_DRI  ROADWAY_DE  HOUR_OF_DAY  MONTH  DAY  YEAR   DATE  \\\n",
      "0      False       False       False           04     01   26  2015  01-26   \n",
      "1      False       False       False           05     04   07  2015  04-07   \n",
      "2      False       False       False           12     01   07  2015  01-07   \n",
      "3      False       False       False           10     06   18  2015  06-18   \n",
      "4      False       False       False           08     11   14  2015  11-14   \n",
      "\n",
      "       TIME  \n",
      "0  04:32:00  \n",
      "1  05:28:00  \n",
      "2  12:34:00  \n",
      "3  10:08:00  \n",
      "4  08:00:00  \n",
      "\n",
      "[5 rows x 36 columns]\n"
     ]
    }
   ],
   "source": [
    "print(data.head())"
   ]
  },
  {
   "cell_type": "code",
   "execution_count": 46,
   "id": "f32d0e40-979a-4b79-9e5b-532991bcbf76",
   "metadata": {},
   "outputs": [],
   "source": [
    "data['HOUR_OF_DAY'] = data['CRASH_DATE'].apply(lambda x: str(x).split(\" \")[1].split(\":\")[0])"
   ]
  },
  {
   "cell_type": "code",
   "execution_count": 58,
   "id": "5980e645-840d-4c0b-8878-ba0a567c7a2b",
   "metadata": {},
   "outputs": [],
   "source": [
    "data['MONTH'] = data['CRASH_DATE'].apply(lambda x: str(x).split(\" \")[0].split(\"/\")[0])"
   ]
  },
  {
   "cell_type": "code",
   "execution_count": 59,
   "id": "dd01c034-3e14-4deb-98b2-444aca78bb0c",
   "metadata": {},
   "outputs": [],
   "source": [
    "data['DAY'] = data['CRASH_DATE'].apply(lambda x: str(x).split(\" \")[0].split(\"/\")[1])"
   ]
  },
  {
   "cell_type": "code",
   "execution_count": 60,
   "id": "122a7526-d478-4985-8032-445a7c00ed77",
   "metadata": {},
   "outputs": [],
   "source": [
    "data['YEAR'] = data['CRASH_DATE'].apply(lambda x: str(x).split(\" \")[0].split(\"/\")[2])"
   ]
  },
  {
   "cell_type": "code",
   "execution_count": 52,
   "id": "772a7a05-a897-43fb-92c7-864cbf494b7d",
   "metadata": {},
   "outputs": [
    {
     "name": "stdout",
     "output_type": "stream",
     "text": [
      "False\n"
     ]
    }
   ],
   "source": [
    "print(data['CRASH_DATE'].isnull().any())"
   ]
  },
  {
   "cell_type": "code",
   "execution_count": 75,
   "id": "5df7ad02-8efc-49a1-a8c8-de9f6b7ec79b",
   "metadata": {},
   "outputs": [],
   "source": [
    "data['DATE'] = data['CRASH_DATE'].apply(lambda x: \"-\".join(str(x).split(\" \")[0].split(\"/\")[0:2]))"
   ]
  },
  {
   "cell_type": "code",
   "execution_count": 54,
   "id": "fb375abf-9066-4d35-b87b-f6c85a32dc3e",
   "metadata": {},
   "outputs": [],
   "source": [
    "data['TIME'] = data['CRASH_DATE'].apply(lambda x: str(x).split(\" \")[1])"
   ]
  },
  {
   "cell_type": "code",
   "execution_count": 114,
   "id": "6f707f31-ab91-46f1-a83f-7c83639d85ae",
   "metadata": {},
   "outputs": [],
   "source": [
    "incidentList = ['DUI', 'PEDESTRIAN', 'BICYCLIST_', 'MOTORCYCLE', 'IMPROPER_R', 'UNRESTRAIN', 'INTERSECTI', 'WILD_ANIMA', 'DOMESTIC_A', 'OVERTURN_R', 'COMMERCIAL', 'TEENAGE_DR', 'OLDER_DRIV', 'NIGHT_DARK', 'SINGLE_VEH', 'DISTRACTED', 'DROWSY_DRI']\n"
   ]
  },
  {
   "cell_type": "code",
   "execution_count": 174,
   "id": "e55ebd83-b7a5-41b3-8d0c-4f1a6106501b",
   "metadata": {},
   "outputs": [],
   "source": [
    "for item in incidentList:\n",
    "    currentTable = data.groupby('DATE')[item].sum() / 4\n",
    "    currentTable.to_csv(f'FormattedCrashData/Mean{item}DateSumCount.csv')"
   ]
  },
  {
   "cell_type": "code",
   "execution_count": 100,
   "id": "cb57cf39-e424-472f-9207-1d702caa9047",
   "metadata": {},
   "outputs": [],
   "source": [
    "roadCountTable = data.groupby('MAIN_ROAD_').size()"
   ]
  },
  {
   "cell_type": "code",
   "execution_count": 108,
   "id": "9e18d936-f95d-4d17-821f-a9cdf6d45f5c",
   "metadata": {},
   "outputs": [],
   "source": [
    "roadCountTable.to_csv('FormattedCrashData/MainRoadCount.csv')"
   ]
  },
  {
   "cell_type": "code",
   "execution_count": 109,
   "id": "2b78c1b2-1677-4177-a844-f3a5c09752df",
   "metadata": {},
   "outputs": [],
   "source": [
    "data.to_csv('FormattedCrashData/COMPLETEDATASET.csv')"
   ]
  },
  {
   "cell_type": "code",
   "execution_count": 118,
   "id": "55e1326f-25fc-485f-8070-b00fd79771cd",
   "metadata": {},
   "outputs": [
    {
     "name": "stdout",
     "output_type": "stream",
     "text": [
      "    OBJECTID  CRASH_ID              CRASH_DATE     ROUTE  MILEPOINT  \\\n",
      "0          1  10700000  01/26/2015 04:32:00 PM      68.0     46.884   \n",
      "1          2  10720000  04/07/2015 05:28:00 AM      89.0    401.411   \n",
      "2          3  10760000  01/07/2015 12:34:00 PM     224.0      9.392   \n",
      "3          4  10770000  06/18/2015 10:08:00 PM     132.0     16.990   \n",
      "4          5  10790000  11/14/2015 08:00:00 PM     105.0      0.453   \n",
      "5          6  10810000  12/30/2015 08:23:00 PM      36.0     60.100   \n",
      "6          7  10820000  02/11/2016 10:57:00 AM    1186.0      1.396   \n",
      "7          8  10830000  03/22/2016 09:15:00 AM      80.0    111.390   \n",
      "8          9  10840000  04/19/2016 12:00:00 PM     266.0      0.300   \n",
      "9         10  10870000  07/31/2016 03:12:00 PM      70.0    132.400   \n",
      "10        11  10880000  09/08/2016 05:00:00 PM      26.0      1.500   \n",
      "11        12  10910000  12/23/2016 07:04:00 PM  575598.0      0.100   \n",
      "12        13  10930000  02/27/2017 08:25:00 AM      84.0    119.377   \n",
      "13        14  10980000  07/24/2017 02:51:00 PM      40.0    113.173   \n",
      "14        15  11010000  11/09/2017 06:06:00 PM    2878.0      5.865   \n",
      "15        16  11020000  12/14/2017 02:32:00 PM  494432.0      0.100   \n",
      "16        17  11040000  02/23/2018 03:15:00 PM    2946.0      6.252   \n",
      "17        18  11050000  03/28/2018 12:58:00 PM      92.0      1.410   \n",
      "18        19  11070000  06/20/2018 11:32:00 AM     232.0      1.280   \n",
      "19        20  11080000  07/06/2018 04:04:00 PM       NaN        NaN   \n",
      "20        21  11120000  11/29/2018 09:30:00 AM     132.0     36.300   \n",
      "21        22  11140000  01/25/2019 06:30:00 PM       NaN        NaN   \n",
      "22        23  10692000  01/01/2015 01:10:00 AM     209.0     11.686   \n",
      "23        24  10692400  01/02/2015 03:30:00 AM      10.0     27.300   \n",
      "24        25  10693400  01/06/2015 05:19:00 PM     154.0     20.462   \n",
      "25        26  10694000  01/08/2015 10:31:00 PM      89.0    386.801   \n",
      "26        27  10694200  01/08/2015 04:44:00 PM     186.0      1.888   \n",
      "27        28  10694300  01/09/2015 02:18:00 AM  496247.0      0.100   \n",
      "28        29  10694900  01/12/2015 05:15:00 PM  356700.0      0.100   \n",
      "29        30  10695100  01/08/2015 03:20:00 PM      68.0     41.409   \n",
      "30        31  10695400  01/13/2015 12:59:00 PM      89.0    329.332   \n",
      "31        32  10696000  01/15/2015 11:41:00 AM  351608.0      0.100   \n",
      "32        33  10696100  01/16/2015 02:47:00 PM      89.0    372.972   \n",
      "33        34  10696600  01/17/2015 09:00:00 PM    2254.0      4.283   \n",
      "34        35  10698000  01/25/2015 06:47:00 PM  357107.0      0.100   \n",
      "35        36  10698100  01/20/2015 05:18:00 PM      36.0     55.742   \n",
      "36        37  10698200  01/20/2015 12:07:00 PM  494509.0      0.100   \n",
      "37        38  10698300  01/22/2015 04:57:00 PM     203.0      2.773   \n",
      "38        39  10698500  01/24/2015 08:20:00 PM      39.0     33.200   \n",
      "39        40  10699600  01/30/2015 08:30:00 AM      68.0     55.154   \n",
      "40        41  10699800  01/30/2015 06:30:00 AM     171.0      5.836   \n",
      "41        42  10700500  02/03/2015 07:09:00 AM     172.0      1.995   \n",
      "42        43  10702100  02/08/2015 09:28:00 AM  358344.0      0.100   \n",
      "43        44  10702600  02/11/2015 08:06:00 AM    2172.0     13.125   \n",
      "44        45  10703200  02/15/2015 06:53:00 PM    3233.0      0.582   \n",
      "45        46  10704500  02/15/2015 02:53:00 PM      89.0    402.354   \n",
      "46        47  10705000  02/21/2015 05:23:00 AM  356744.0      0.100   \n",
      "47        48  10705100  02/17/2015 05:15:00 PM    3020.0      1.024   \n",
      "48        49  10705800  02/11/2015 09:29:00 PM    3084.0      0.815   \n",
      "49        50  10706100  02/23/2015 05:18:00 PM      79.0      2.702   \n",
      "\n",
      "      GCS_Lat    GCS_Long                                      MAIN_ROAD_  \\\n",
      "0   40.588737 -111.938720                                    REDWOOD ROAD   \n",
      "1   41.066161 -111.910604                                          HWY 89   \n",
      "2   40.696599 -111.544219                                          SR 224   \n",
      "3   39.634688 -112.106185                                          SR-132   \n",
      "4   40.921522 -111.891682                                    PARRISH LANE   \n",
      "5   40.613456 -112.294720                                           SR-36   \n",
      "6   41.801414 -111.926933                                   3800 W 3800 N   \n",
      "7   40.770862 -112.059462                                            I-80   \n",
      "8   40.667634 -111.948201                                   4700 S 2200 W   \n",
      "9   38.889265 -110.645686                                            I-70   \n",
      "10  41.178086 -112.000936                                    RIVERDALE RD   \n",
      "11  41.196055 -111.983794                                    3705 S 250 W   \n",
      "12  40.971589 -111.442563                                             I84   \n",
      "13  40.287660 -110.002613                                          HWY 40   \n",
      "14  40.420169 -111.885546                     2301 W ASHTON BLVD; MATC LE   \n",
      "15  40.391495 -111.840110                                 560 E 300 NORTH   \n",
      "16  40.326341 -111.727176                               600 S 500 WEST ST   \n",
      "17  40.432713 -111.869019                                    1200 W SR-92   \n",
      "18  41.089360 -111.973440  N HILL FIELD RD & W ANTELOPE DR; 400 W; 2000 N   \n",
      "19  41.068646 -111.978377      N KING ST & W OLSEN PLAZA DR; 650 W; 600 N   \n",
      "20  39.712411 -111.779878                                          SR-132   \n",
      "21        NaN         NaN                                    680 E 3300 S   \n",
      "22  40.587997 -111.900364                                          9000 S   \n",
      "23  39.096584 -111.132225                                           SR-10   \n",
      "24  40.717739 -111.985355                                   BANGERTER HWY   \n",
      "25  40.861617 -111.896299                                          HWY 89   \n",
      "26  40.771884 -111.888219                                 NORTH TEMPLE ST   \n",
      "27  40.228364 -111.657804                                      50 E 400 S   \n",
      "28  40.731570 -111.862476                                       1000 EAST   \n",
      "29  40.509127 -111.938695                                      REDWOOD RD   \n",
      "30  40.179257 -111.610609                                 MAIN ST (SR-89)   \n",
      "31  40.607359 -111.821073                     2459 E NANTUCKET DR; 7895 S   \n",
      "32  40.677997 -111.888273                                        STATE ST   \n",
      "33  40.733507 -111.876345                                          1700 S   \n",
      "34  40.695865 -111.878266                         424 E SCOTT AVE; 3460 S   \n",
      "35  40.550646 -112.298127                                         MAIN ST   \n",
      "36  40.335601 -111.699412                  111 S EAGLES NEST AVE; OAK CAN   \n",
      "37  41.193341 -111.948772                                      3950 SOUTH   \n",
      "38  41.369549 -111.590420                                          HWY 39   \n",
      "39  40.708937 -111.938938                                    REDWOOD ROAD   \n",
      "40  40.696593 -111.980380                               BANGERTER  HWY NB   \n",
      "41  40.667597 -112.024676                                          5600 W   \n",
      "42  40.698930 -112.010958                                          3366 S   \n",
      "43  40.687092 -111.841921                                          3900 S   \n",
      "44  37.108043 -113.621347                                     DIXIE DRIVE   \n",
      "45  41.079714 -111.911053                                          HWY 89   \n",
      "46  40.591497 -111.896017                                       MONROE ST   \n",
      "47  40.239918 -111.643133                                     450 N 900 E   \n",
      "48  40.159372 -111.603319                                        400 EAST   \n",
      "49  41.205796 -111.990123                                   500 W 31ST ST   \n",
      "\n",
      "                   CITY  COUNTY_NAM  ...  SINGLE_VEH DISTRACTED  DROWSY_DRI  \\\n",
      "0           WEST JORDAN   SALT LAKE  ...       False      False       False   \n",
      "1                LAYTON       DAVIS  ...        True      False       False   \n",
      "2   OUTSIDE CITY LIMITS      SUMMIT  ...       False      False       False   \n",
      "3   OUTSIDE CITY LIMITS        JUAB  ...        True      False       False   \n",
      "4           CENTERVILLE       DAVIS  ...       False      False       False   \n",
      "5   OUTSIDE CITY LIMITS      TOOELE  ...        True      False       False   \n",
      "6   OUTSIDE CITY LIMITS       CACHE  ...       False      False       False   \n",
      "7        SALT LAKE CITY   SALT LAKE  ...        True      False       False   \n",
      "8          TAYLORSVILLE   SALT LAKE  ...       False      False       False   \n",
      "9   OUTSIDE CITY LIMITS       EMERY  ...        True      False        True   \n",
      "10            RIVERDALE       WEBER  ...       False       True       False   \n",
      "11                OGDEN       WEBER  ...       False      False       False   \n",
      "12  OUTSIDE CITY LIMITS      SUMMIT  ...        True      False       False   \n",
      "13            ROOSEVELT    DUCHESNE  ...       False      False       False   \n",
      "14                 LEHI        UTAH  ...        True      False       False   \n",
      "15                 LEHI        UTAH  ...       False      False       False   \n",
      "16                 OREM        UTAH  ...       False      False       False   \n",
      "17                 LEHI        UTAH  ...       False      False       False   \n",
      "18               LAYTON       DAVIS  ...       False      False       False   \n",
      "19               LAYTON       DAVIS  ...       False       True       False   \n",
      "20  OUTSIDE CITY LIMITS        JUAB  ...        True      False       False   \n",
      "21      ***  ERROR  ***   SALT LAKE  ...       False      False       False   \n",
      "22                SANDY   SALT LAKE  ...       False      False       False   \n",
      "23               FERRON       EMERY  ...        True      False        True   \n",
      "24     WEST VALLEY CITY   SALT LAKE  ...       False      False       False   \n",
      "25            BOUNTIFUL       DAVIS  ...       False      False       False   \n",
      "26       SALT LAKE CITY   SALT LAKE  ...        True      False       False   \n",
      "27                PROVO        UTAH  ...       False      False       False   \n",
      "28       SALT LAKE CITY   SALT LAKE  ...       False      False       False   \n",
      "29             RIVERTON   SALT LAKE  ...       False      False       False   \n",
      "30          SPRINGVILLE        UTAH  ...       False      False       False   \n",
      "31   COTTONWOOD HEIGHTS   SALT LAKE  ...       False       True       False   \n",
      "32               MURRAY   SALT LAKE  ...       False      False       False   \n",
      "33       SALT LAKE CITY   SALT LAKE  ...       False      False       False   \n",
      "34      SOUTH SALT LAKE   SALT LAKE  ...        True      False       False   \n",
      "35               TOOELE      TOOELE  ...       False      False       False   \n",
      "36               LINDON        UTAH  ...        True      False       False   \n",
      "37                OGDEN       WEBER  ...       False      False       False   \n",
      "38  OUTSIDE CITY LIMITS       WEBER  ...        True      False       False   \n",
      "39     WEST VALLEY CITY   SALT LAKE  ...       False      False       False   \n",
      "40     WEST VALLEY CITY   SALT LAKE  ...       False      False       False   \n",
      "41     WEST VALLEY CITY   SALT LAKE  ...       False      False       False   \n",
      "42     WEST VALLEY CITY   SALT LAKE  ...       False      False       False   \n",
      "43             HOLLADAY   SALT LAKE  ...       False      False       False   \n",
      "44           ST. GEORGE  WASHINGTON  ...       False      False       False   \n",
      "45               LAYTON       DAVIS  ...       False      False       False   \n",
      "46                SANDY   SALT LAKE  ...        True      False       False   \n",
      "47                PROVO        UTAH  ...        True      False       False   \n",
      "48          SPRINGVILLE        UTAH  ...       False      False       False   \n",
      "49                OGDEN       WEBER  ...       False      False       False   \n",
      "\n",
      "    ROADWAY_DE  HOUR_OF_DAY  MONTH  DAY  YEAR   DATE      TIME  \n",
      "0        False           04     01   26  2015  01-26  04:32:00  \n",
      "1        False           05     04   07  2015  04-07  05:28:00  \n",
      "2        False           12     01   07  2015  01-07  12:34:00  \n",
      "3        False           10     06   18  2015  06-18  10:08:00  \n",
      "4        False           08     11   14  2015  11-14  08:00:00  \n",
      "5         True           08     12   30  2015  12-30  08:23:00  \n",
      "6        False           10     02   11  2016  02-11  10:57:00  \n",
      "7         True           09     03   22  2016  03-22  09:15:00  \n",
      "8        False           12     04   19  2016  04-19  12:00:00  \n",
      "9         True           03     07   31  2016  07-31  03:12:00  \n",
      "10       False           05     09   08  2016  09-08  05:00:00  \n",
      "11       False           07     12   23  2016  12-23  07:04:00  \n",
      "12       False           08     02   27  2017  02-27  08:25:00  \n",
      "13       False           02     07   24  2017  07-24  02:51:00  \n",
      "14       False           06     11   09  2017  11-09  06:06:00  \n",
      "15       False           02     12   14  2017  12-14  02:32:00  \n",
      "16       False           03     02   23  2018  02-23  03:15:00  \n",
      "17       False           12     03   28  2018  03-28  12:58:00  \n",
      "18       False           11     06   20  2018  06-20  11:32:00  \n",
      "19       False           04     07   06  2018  07-06  04:04:00  \n",
      "20       False           09     11   29  2018  11-29  09:30:00  \n",
      "21       False           06     01   25  2019  01-25  06:30:00  \n",
      "22       False           01     01   01  2015  01-01  01:10:00  \n",
      "23        True           03     01   02  2015  01-02  03:30:00  \n",
      "24       False           05     01   06  2015  01-06  05:19:00  \n",
      "25       False           10     01   08  2015  01-08  10:31:00  \n",
      "26       False           04     01   08  2015  01-08  04:44:00  \n",
      "27       False           02     01   09  2015  01-09  02:18:00  \n",
      "28       False           05     01   12  2015  01-12  05:15:00  \n",
      "29       False           03     01   08  2015  01-08  03:20:00  \n",
      "30       False           12     01   13  2015  01-13  12:59:00  \n",
      "31       False           11     01   15  2015  01-15  11:41:00  \n",
      "32       False           02     01   16  2015  01-16  02:47:00  \n",
      "33       False           09     01   17  2015  01-17  09:00:00  \n",
      "34       False           06     01   25  2015  01-25  06:47:00  \n",
      "35       False           05     01   20  2015  01-20  05:18:00  \n",
      "36        True           12     01   20  2015  01-20  12:07:00  \n",
      "37       False           04     01   22  2015  01-22  04:57:00  \n",
      "38        True           08     01   24  2015  01-24  08:20:00  \n",
      "39       False           08     01   30  2015  01-30  08:30:00  \n",
      "40       False           06     01   30  2015  01-30  06:30:00  \n",
      "41       False           07     02   03  2015  02-03  07:09:00  \n",
      "42       False           09     02   08  2015  02-08  09:28:00  \n",
      "43       False           08     02   11  2015  02-11  08:06:00  \n",
      "44       False           06     02   15  2015  02-15  06:53:00  \n",
      "45       False           02     02   15  2015  02-15  02:53:00  \n",
      "46        True           05     02   21  2015  02-21  05:23:00  \n",
      "47       False           05     02   17  2015  02-17  05:15:00  \n",
      "48       False           09     02   11  2015  02-11  09:29:00  \n",
      "49       False           05     02   23  2015  02-23  05:18:00  \n",
      "\n",
      "[50 rows x 36 columns]\n"
     ]
    }
   ],
   "source": [
    "print(data.head(50))"
   ]
  },
  {
   "cell_type": "code",
   "execution_count": null,
   "id": "0aeb52f9-a1c5-4c73-80df-111e87461b1f",
   "metadata": {},
   "outputs": [],
   "source": []
  }
 ],
 "metadata": {
  "kernelspec": {
   "display_name": "Python 3 (ipykernel)",
   "language": "python",
   "name": "python3"
  },
  "language_info": {
   "codemirror_mode": {
    "name": "ipython",
    "version": 3
   },
   "file_extension": ".py",
   "mimetype": "text/x-python",
   "name": "python",
   "nbconvert_exporter": "python",
   "pygments_lexer": "ipython3",
   "version": "3.13.0"
  }
 },
 "nbformat": 4,
 "nbformat_minor": 5
}
