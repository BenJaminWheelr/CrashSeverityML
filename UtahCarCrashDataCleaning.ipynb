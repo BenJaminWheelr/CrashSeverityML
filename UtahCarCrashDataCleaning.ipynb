{
 "cells": [
  {
   "cell_type": "code",
   "execution_count": 1,
   "id": "7e43519c-71a7-4466-bd90-96ec0cece227",
   "metadata": {},
   "outputs": [],
   "source": [
    "import pandas as pd\n",
    "data = pd.read_csv('FormattedCrashData/COMPLETEDATASET.csv')"
   ]
  },
  {
   "cell_type": "code",
   "execution_count": 6,
   "id": "ff048a1e-38f5-4444-a9c6-979897b15b37",
   "metadata": {},
   "outputs": [],
   "source": [
    "incidentList = ['CRASH_SEVE', 'CITY', 'MAIN_ROAD_', 'ROUTE', 'MILEPOINT', 'GCS_Lat', 'GCS_Long', 'COUNTY_NAM', 'DUI', 'PEDESTRIAN', 'BICYCLIST_', 'MOTORCYCLE', 'IMPROPER_R', 'UNRESTRAIN', 'INTERSECTI', 'WILD_ANIMA', 'DOMESTIC_A', 'OVERTURN_R', 'COMMERCIAL', 'TEENAGE_DR', 'OLDER_DRIV', 'NIGHT_DARK', 'SINGLE_VEH', 'DISTRACTED', 'DROWSY_DRI']\n"
   ]
  },
  {
   "cell_type": "code",
   "execution_count": 21,
   "id": "7f00355b-c001-48d9-a887-b1304b82263a",
   "metadata": {},
   "outputs": [
    {
     "name": "stdout",
     "output_type": "stream",
     "text": [
      "CRASH_SEVE field GOOD\n",
      "CITY field contains null\n",
      "MAIN_ROAD_ field contains null\n",
      "ROUTE field contains null\n",
      "MILEPOINT field contains null\n",
      "GCS_Lat field contains null\n",
      "GCS_Long field contains null\n",
      "COUNTY_NAM field GOOD\n",
      "DUI field GOOD\n",
      "PEDESTRIAN field GOOD\n",
      "BICYCLIST_ field GOOD\n",
      "MOTORCYCLE field GOOD\n",
      "IMPROPER_R field GOOD\n",
      "UNRESTRAIN field GOOD\n",
      "INTERSECTI field GOOD\n",
      "WILD_ANIMA field GOOD\n",
      "DOMESTIC_A field GOOD\n",
      "OVERTURN_R field GOOD\n",
      "COMMERCIAL field GOOD\n",
      "TEENAGE_DR field GOOD\n",
      "OLDER_DRIV field GOOD\n",
      "NIGHT_DARK field GOOD\n",
      "SINGLE_VEH field GOOD\n",
      "DISTRACTED field GOOD\n",
      "DROWSY_DRI field GOOD\n"
     ]
    }
   ],
   "source": [
    "for item in incidentList:\n",
    "    if data[item].isna().any():\n",
    "        print(f\"{item} field contains null\")\n",
    "    else:\n",
    "        print(f\"{item} field GOOD\")"
   ]
  },
  {
   "cell_type": "code",
   "execution_count": 22,
   "id": "4bd420e8-f696-4219-baa5-655eabb1fc8c",
   "metadata": {},
   "outputs": [
    {
     "name": "stdout",
     "output_type": "stream",
     "text": [
      "263852\n"
     ]
    }
   ],
   "source": [
    "print(len(data))"
   ]
  },
  {
   "cell_type": "code",
   "execution_count": 24,
   "id": "f24dc58a-c78e-4b8c-bd79-13c06ebc4f4d",
   "metadata": {},
   "outputs": [],
   "source": [
    "fieldsToBeCleaned = ['CITY', 'MAIN_ROAD_', 'ROUTE', 'MILEPOINT', 'GCS_Lat', 'GCS_Long']\n"
   ]
  },
  {
   "cell_type": "code",
   "execution_count": 27,
   "id": "355b8c3c-750e-4eb9-9024-09e9a7bc8519",
   "metadata": {},
   "outputs": [],
   "source": [
    "dataCleaned = data.dropna(subset=fieldsToBeCleaned)"
   ]
  },
  {
   "cell_type": "code",
   "execution_count": 31,
   "id": "7e7d1f05-9736-4f22-99c1-293de5af3276",
   "metadata": {},
   "outputs": [],
   "source": [
    "from sklearn.preprocessing import LabelEncoder"
   ]
  },
  {
   "cell_type": "code",
   "execution_count": 33,
   "id": "7b98d61c-5875-4183-b70c-e6d5755ae3a1",
   "metadata": {},
   "outputs": [],
   "source": [
    "encoder = LabelEncoder()"
   ]
  },
  {
   "cell_type": "code",
   "execution_count": 52,
   "id": "5538db44-6b9d-4f6e-a4a3-417acbe99ab5",
   "metadata": {},
   "outputs": [],
   "source": [
    "binaryFields = ['ROADWAY_DE', 'WORK_ZONE_', 'DUI', 'PEDESTRIAN', 'BICYCLIST_', 'MOTORCYCLE', 'IMPROPER_R', 'UNRESTRAIN', 'INTERSECTI', 'WILD_ANIMA', 'DOMESTIC_A', 'OVERTURN_R', 'COMMERCIAL', 'TEENAGE_DR', 'OLDER_DRIV', 'NIGHT_DARK', 'SINGLE_VEH', 'DISTRACTED', 'DROWSY_DRI']"
   ]
  },
  {
   "cell_type": "code",
   "execution_count": 53,
   "id": "ff65f688-768a-4df2-8794-c7f4ad6f04fa",
   "metadata": {},
   "outputs": [
    {
     "name": "stderr",
     "output_type": "stream",
     "text": [
      "C:\\Users\\Bighe\\AppData\\Local\\Temp\\ipykernel_29368\\27633769.py:1: SettingWithCopyWarning: \n",
      "A value is trying to be set on a copy of a slice from a DataFrame.\n",
      "Try using .loc[row_indexer,col_indexer] = value instead\n",
      "\n",
      "See the caveats in the documentation: https://pandas.pydata.org/pandas-docs/stable/user_guide/indexing.html#returning-a-view-versus-a-copy\n",
      "  dataCleaned[binaryFields] = dataCleaned[binaryFields].apply(encoder.fit_transform)\n"
     ]
    }
   ],
   "source": [
    "dataCleaned[binaryFields] = dataCleaned[binaryFields].apply(encoder.fit_transform)"
   ]
  },
  {
   "cell_type": "code",
   "execution_count": 54,
   "id": "065f3429-01ec-4eda-9e72-1b203be36786",
   "metadata": {},
   "outputs": [],
   "source": [
    "dataCleaned.to_csv('FormattedCrashData/COMPLETEDATASET.csv', index=False)"
   ]
  },
  {
   "cell_type": "code",
   "execution_count": null,
   "id": "4c628990-7573-48f4-adc6-ff9726bc1c2b",
   "metadata": {},
   "outputs": [],
   "source": []
  }
 ],
 "metadata": {
  "kernelspec": {
   "display_name": "Python 3 (ipykernel)",
   "language": "python",
   "name": "python3"
  },
  "language_info": {
   "codemirror_mode": {
    "name": "ipython",
    "version": 3
   },
   "file_extension": ".py",
   "mimetype": "text/x-python",
   "name": "python",
   "nbconvert_exporter": "python",
   "pygments_lexer": "ipython3",
   "version": "3.13.0"
  }
 },
 "nbformat": 4,
 "nbformat_minor": 5
}
