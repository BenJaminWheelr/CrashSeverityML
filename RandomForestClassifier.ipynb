{
 "cells": [
  {
   "cell_type": "code",
   "execution_count": 1,
   "id": "7fb15657-1013-4c78-a697-1763228a03fd",
   "metadata": {},
   "outputs": [],
   "source": [
    "from sklearn.ensemble import RandomForestClassifier\n",
    "from sklearn.model_selection import train_test_split, GridSearchCV\n",
    "from sklearn.metrics import accuracy_score\n",
    "import pandas as pd"
   ]
  },
  {
   "cell_type": "code",
   "execution_count": 2,
   "id": "8ce6e78e-8082-484c-bd1c-6dacb44b5e24",
   "metadata": {},
   "outputs": [],
   "source": [
    "data = pd.read_csv('COMPLETEDATASET.csv')"
   ]
  },
  {
   "cell_type": "code",
   "execution_count": 3,
   "id": "68fc65a7-6175-490d-bb1a-3a074b12c578",
   "metadata": {},
   "outputs": [],
   "source": [
    "x = data[['ROUTE', 'MILEPOINT', 'GCS_Lat', 'GCS_Long', 'WORK_ZONE_', 'PEDESTRIAN', 'BICYCLIST_', 'MOTORCYCLE', 'IMPROPER_R', 'UNRESTRAIN', 'DUI', 'INTERSECTI', 'WILD_ANIMA', 'DOMESTIC_A', 'COMMERCIAL', 'TEENAGE_DR', 'OLDER_DRIV', 'NIGHT_DARK', 'SINGLE_VEH', 'DISTRACTED', 'DROWSY_DRI', 'ROADWAY_DE'\n",
    ", 'HOUR_OF_DAY', 'MONTH', 'DAY', 'YEAR']]"
   ]
  },
  {
   "cell_type": "code",
   "execution_count": 4,
   "id": "22ff1d28-ab34-43f4-ab50-54e3bd117514",
   "metadata": {},
   "outputs": [],
   "source": [
    "y = data['CRASH_SEVE']"
   ]
  },
  {
   "cell_type": "code",
   "execution_count": 5,
   "id": "c4262750-d03d-46d7-99a8-8f8262c2cfdd",
   "metadata": {},
   "outputs": [],
   "source": [
    "xTrain, xTest, yTrain, yTest = train_test_split(x, y, test_size=0.2, random_state=42)"
   ]
  },
  {
   "cell_type": "code",
   "execution_count": 7,
   "id": "4d2a6bad-a569-488a-a7dc-11b063aa079f",
   "metadata": {},
   "outputs": [],
   "source": [
    "rf = RandomForestClassifier(n_jobs=-1, random_state=42)"
   ]
  },
  {
   "cell_type": "code",
   "execution_count": 8,
   "id": "1768210e-d4f4-4d84-9f16-77167b4b0d0b",
   "metadata": {},
   "outputs": [],
   "source": [
    "paramGrid = {\n",
    "    'n_estimators': [100, 200, 300],\n",
    "    'max_depth': [None, 10, 20, 30, 50],\n",
    "    'min_samples_split': [2, 5, 10],\n",
    "    'min_samples_leaf': [1, 2, 5],\n",
    "    'max_features': ['auto', 'sqrt', 'log2'],\n",
    "    'bootstrap': [True, False]\n",
    "}"
   ]
  },
  {
   "cell_type": "code",
   "execution_count": 9,
   "id": "bf606b95-1972-449e-958d-1b2c70765e28",
   "metadata": {},
   "outputs": [],
   "source": [
    "gridSearch = GridSearchCV(estimator=rf, param_grid=paramGrid, cv=5, scoring='accuracy')"
   ]
  },
  {
   "cell_type": "code",
   "execution_count": null,
   "id": "92f652d2-3b5c-4239-9de3-099fa7f321c6",
   "metadata": {},
   "outputs": [],
   "source": [
    "gridSearch.fit(xTrain, yTrain)\n",
    "print(f\"BEST HYPERPARAMETERS: {gridSearch.best_params_}\")\n",
    "print(f\"BEST ACCURACY: {gridSearch.best_score_}\")"
   ]
  }
 ],
 "metadata": {
  "kernelspec": {
   "display_name": "Python 3 (ipykernel)",
   "language": "python",
   "name": "python3"
  },
  "language_info": {
   "codemirror_mode": {
    "name": "ipython",
    "version": 3
   },
   "file_extension": ".py",
   "mimetype": "text/x-python",
   "name": "python",
   "nbconvert_exporter": "python",
   "pygments_lexer": "ipython3",
   "version": "3.13.0"
  }
 },
 "nbformat": 4,
 "nbformat_minor": 5
}
